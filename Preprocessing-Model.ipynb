{
 "cells": [
  {
   "cell_type": "code",
   "execution_count": 1,
   "metadata": {},
   "outputs": [
    {
     "name": "stderr",
     "output_type": "stream",
     "text": [
      "[nltk_data] Downloading package punkt to\n",
      "[nltk_data]     C:\\Users\\sweek\\AppData\\Roaming\\nltk_data...\n",
      "[nltk_data]   Package punkt is already up-to-date!\n",
      "[nltk_data] Downloading package stopwords to\n",
      "[nltk_data]     C:\\Users\\sweek\\AppData\\Roaming\\nltk_data...\n",
      "[nltk_data]   Package stopwords is already up-to-date!\n",
      "C:\\Users\\sweek\\AppData\\Local\\Temp\\ipykernel_2504\\3367617860.py:9: DtypeWarning: Columns (9) have mixed types. Specify dtype option on import or set low_memory=False.\n",
      "  data = pd.read_csv('Myntra Fasion Clothing.csv')\n"
     ]
    }
   ],
   "source": [
    "import pandas as pd\n",
    "import nltk\n",
    "from nltk.tokenize import word_tokenize\n",
    "from nltk.corpus import stopwords\n",
    "import string\n",
    "nltk.download('punkt')\n",
    "nltk.download('stopwords')\n",
    "# Load the dataset\n",
    "data = pd.read_csv('Myntra Fasion Clothing.csv')\n",
    "\n",
    "# Extract relevant columns\n",
    "descriptions = data['Description'].tolist()\n",
    "urls = data['URL'].tolist()\n",
    "\n",
    "# Text preprocessing\n",
    "def preprocess_text(text):\n",
    "    # Convert to lowercase\n",
    "    text = text.lower()\n",
    "    # Remove punctuation\n",
    "    text = text.translate(str.maketrans('', '', string.punctuation))\n",
    "    # Tokenize the text\n",
    "    tokens = word_tokenize(text)\n",
    "    # Remove stopwords\n",
    "    tokens = [word for word in tokens if word not in stopwords.words('english')]\n",
    "    # Join tokens back to a clean text\n",
    "    cleaned_text = ' '.join(tokens)\n",
    "    return cleaned_text\n",
    "\n",
    "# Apply preprocessing to descriptions\n",
    "cleaned_descriptions = [preprocess_text(desc) for desc in descriptions]\n"
   ]
  },
  {
   "cell_type": "code",
   "execution_count": 2,
   "metadata": {},
   "outputs": [],
   "source": [
    "from gensim.models import Word2Vec\n",
    "\n",
    "# Train Word2Vec model\n",
    "word2vec_model = Word2Vec(sentences=[desc.split() for desc in cleaned_descriptions], vector_size=100, window=5, min_count=1, sg=0)\n",
    "\n",
    "# Function to get the vector representation of a description\n",
    "def get_description_vector(description):\n",
    "    vector = sum([word2vec_model.wv[word] for word in description.split() if word in word2vec_model.wv])\n",
    "    return vector\n",
    "\n",
    "# Get description vectors\n",
    "description_vectors = [get_description_vector(desc) for desc in cleaned_descriptions]\n"
   ]
  },
  {
   "cell_type": "code",
   "execution_count": 5,
   "metadata": {},
   "outputs": [],
   "source": [
    "# Save the Word2Vec model to a file\n",
    "import numpy as np\n",
    "word2vec_model.save(\"word2vec_model.model\")\n",
    "\n",
    "# Save the cleaned descriptions and description vectors to files\n",
    "with open(\"cleaned_descriptions.txt\", \"w\") as f:\n",
    "    for desc in cleaned_descriptions:\n",
    "        f.write(desc + \"\\n\")\n",
    "\n",
    "np.save(\"description_vectors.npy\", np.array(description_vectors))\n"
   ]
  },
  {
   "cell_type": "code",
   "execution_count": 6,
   "metadata": {},
   "outputs": [],
   "source": [
    "user_query = \"pink shirt\"\n",
    "user_query_cleaned = preprocess_text(user_query)\n",
    "user_query_vector = get_description_vector(user_query_cleaned)\n"
   ]
  },
  {
   "cell_type": "code",
   "execution_count": 7,
   "metadata": {},
   "outputs": [],
   "source": [
    "import numpy as np\n",
    "from sklearn.metrics.pairwise import cosine_similarity\n",
    "\n",
    "# Convert user query vector to numpy array\n",
    "user_query_vector = np.array([user_query_vector])\n",
    "\n",
    "# Calculate cosine similarities\n",
    "similarities = cosine_similarity(user_query_vector, description_vectors)\n",
    "\n",
    "# Flatten the similarities array\n",
    "similarities = similarities.flatten()\n"
   ]
  },
  {
   "cell_type": "code",
   "execution_count": 8,
   "metadata": {},
   "outputs": [
    {
     "name": "stdout",
     "output_type": "stream",
     "text": [
      "Top 5 similar item links:\n",
      "https://www.myntra.com/shirts/kazo/kazo-pink-shirt/860926/buy\n",
      "https://www.myntra.com/tshirts/hypernation/hypernation-pink-t-shirt/1064683/buy\n",
      "https://www.myntra.com/shirts/only/only-mint-green-shirt/1206465/buy\n",
      "https://www.myntra.com/tshirts/the-pink-moon/the-pink-moon-woman-pink-yoga-t-shirt/17100756/buy\n",
      "https://www.myntra.com/tshirts/belliskey/belliskey-women-pink--white-boxy-t-shirt/17829962/buy\n"
     ]
    }
   ],
   "source": [
    "# Get indices of top 5 similar items\n",
    "top_indices = similarities.argsort()[-5:][::-1]\n",
    "\n",
    "# Get links of top 5 similar items\n",
    "top_item_links = [urls[i] for i in top_indices]\n",
    "\n",
    "print(\"Top 5 similar item links:\")\n",
    "for link in top_item_links:\n",
    "    print(link)\n"
   ]
  }
 ],
 "metadata": {
  "kernelspec": {
   "display_name": "base",
   "language": "python",
   "name": "python3"
  },
  "language_info": {
   "codemirror_mode": {
    "name": "ipython",
    "version": 3
   },
   "file_extension": ".py",
   "mimetype": "text/x-python",
   "name": "python",
   "nbconvert_exporter": "python",
   "pygments_lexer": "ipython3",
   "version": "3.11.4"
  },
  "orig_nbformat": 4
 },
 "nbformat": 4,
 "nbformat_minor": 2
}
